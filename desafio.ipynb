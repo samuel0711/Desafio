{
  "nbformat": 4,
  "nbformat_minor": 0,
  "metadata": {
    "colab": {
      "name": "desafio.ipynb",
      "provenance": [],
      "collapsed_sections": [],
      "authorship_tag": "ABX9TyMIsCRA8CyZEtaDQ6DQgX08",
      "include_colab_link": true
    },
    "kernelspec": {
      "name": "python3",
      "display_name": "Python 3"
    },
    "language_info": {
      "name": "python"
    }
  },
  "cells": [
    {
      "cell_type": "markdown",
      "metadata": {
        "id": "view-in-github",
        "colab_type": "text"
      },
      "source": [
        "<a href=\"https://colab.research.google.com/github/samuel0711/Desafio/blob/main/desafio.ipynb\" target=\"_parent\"><img src=\"https://colab.research.google.com/assets/colab-badge.svg\" alt=\"Open In Colab\"/></a>"
      ]
    },
    {
      "cell_type": "code",
      "execution_count": 18,
      "metadata": {
        "id": "K4pB7RW09PDP"
      },
      "outputs": [],
      "source": [
        "import pandas as pd\n",
        "import numpy as np\n",
        "import requests\n",
        "import json\n",
        "import pandas as pd\n",
        "import psycopg2"
      ]
    },
    {
      "cell_type": "code",
      "source": [
        "# Função para criar conexão no banco\n",
        "def conecta_db():\n",
        "  con = psycopg2.connect(host='ec2-3-222-74-92.compute-1.amazonaws.com', \n",
        "                         database='dfo2vqe9hs2knm',\n",
        "                         user='zgbodaynfjorzt',\n",
        "                         port='5432', \n",
        "                         password='d2b11c0c6039df67f39d22f680fb92a843a1b652e3d5b692f6670c0a2abc2804')\n",
        "  return con"
      ],
      "metadata": {
        "id": "TyUUpBv0-IkK"
      },
      "execution_count": 19,
      "outputs": []
    },
    {
      "cell_type": "code",
      "source": [
        "# Função para consultas no banco\n",
        "def consultar_db():\n",
        "  con = conecta_db()\n",
        "  # cria um cursor\n",
        "  cur = con.cursor()\n",
        "  # execute uma declaração\n",
        "  print('Versão do banco de dados PostgreSQL:')\n",
        "  cur.execute ('SELECT version()')\n",
        "  # exibir a versão do servidor de banco de dados PostgreSQL\n",
        "  db_version = cur.fetchone()\n",
        "  print(db_version)\n",
        "\n",
        "  #verificando tabelas disponíveis\n",
        "  cur.execute ('SELECT * FROM pg_catalog.pg_tables')\n",
        "  tables = cur.fetchone()\n",
        "  print(tables)\n",
        "\n",
        "consultar_db()"
      ],
      "metadata": {
        "colab": {
          "base_uri": "https://localhost:8080/"
        },
        "id": "J_DpLcHLAfy7",
        "outputId": "f712d3aa-2b69-4d4a-bde9-99ff84d5313c"
      },
      "execution_count": 20,
      "outputs": [
        {
          "output_type": "stream",
          "name": "stdout",
          "text": [
            "Versão do banco de dados PostgreSQL:\n",
            "('PostgreSQL 14.4 (Ubuntu 14.4-1.pgdg20.04+1) on x86_64-pc-linux-gnu, compiled by gcc (Ubuntu 9.4.0-1ubuntu1~20.04.1) 9.4.0, 64-bit',)\n",
            "('public', 'forms', 'zgbodaynfjorzt', None, True, False, True, False)\n"
          ]
        }
      ]
    },
    {
      "cell_type": "code",
      "source": [
        ""
      ],
      "metadata": {
        "id": "x2RlISp2TKH2"
      },
      "execution_count": 20,
      "outputs": []
    }
  ]
}