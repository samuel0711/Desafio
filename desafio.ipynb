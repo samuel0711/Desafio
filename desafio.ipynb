{
  "nbformat": 4,
  "nbformat_minor": 0,
  "metadata": {
    "colab": {
      "name": "desafio.ipynb",
      "provenance": [],
      "collapsed_sections": [],
      "authorship_tag": "ABX9TyM792/7/ga7JbKPn1BwD/U8",
      "include_colab_link": true
    },
    "kernelspec": {
      "name": "python3",
      "display_name": "Python 3"
    },
    "language_info": {
      "name": "python"
    }
  },
  "cells": [
    {
      "cell_type": "markdown",
      "metadata": {
        "id": "view-in-github",
        "colab_type": "text"
      },
      "source": [
        "<a href=\"https://colab.research.google.com/github/samuel0711/Desafio/blob/main/desafio.ipynb\" target=\"_parent\"><img src=\"https://colab.research.google.com/assets/colab-badge.svg\" alt=\"Open In Colab\"/></a>"
      ]
    },
    {
      "cell_type": "code",
      "execution_count": 42,
      "metadata": {
        "id": "K4pB7RW09PDP"
      },
      "outputs": [],
      "source": [
        "import pandas as pd\n",
        "import numpy as np\n",
        "import requests\n",
        "import json\n",
        "import pandas as pd\n",
        "import psycopg2\n",
        "import datetime as dt\n",
        "\n",
        "import matplotlib.pyplot as plt \n",
        "\n",
        "pd.set_option('display.max_columns', 50)"
      ]
    },
    {
      "cell_type": "markdown",
      "source": [
        "# Criando funções de auxílio"
      ],
      "metadata": {
        "id": "Ff2SmDxPedf4"
      }
    },
    {
      "cell_type": "code",
      "source": [
        "# Função para criar conexão no banco\n",
        "def conecta_db():\n",
        "  con = psycopg2.connect(host='ec2-3-222-74-92.compute-1.amazonaws.com', \n",
        "                         database='dfo2vqe9hs2knm',\n",
        "                         user='zgbodaynfjorzt',\n",
        "                         port='5432', \n",
        "                         password='d2b11c0c6039df67f39d22f680fb92a843a1b652e3d5b692f6670c0a2abc2804')\n",
        "  return con"
      ],
      "metadata": {
        "id": "TyUUpBv0-IkK"
      },
      "execution_count": 43,
      "outputs": []
    },
    {
      "cell_type": "code",
      "source": [
        "#Consulta em tabela específica\n",
        "def pegar_tabela(tabela):\n",
        "  con = conecta_db()\n",
        "  # cria um cursor\n",
        "  cur = con.cursor()\n",
        "  #construindo query\n",
        "  query = 'SELECT * FROM '+tabela\n",
        "  cur.execute(query)\n",
        "  # pegar todos os dados da query e armazenar dentro de uma lista\n",
        "  data = cur.fetchall()\n",
        "\n",
        "  registros = []\n",
        "  for rec in data:\n",
        "    registros.append(rec)\n",
        "  con.close()\n",
        "\n",
        "  #print(registros[0])\n",
        "  return registros\n",
        "\n",
        "#Consulta sobre nomes das colunas de uma tabela\n",
        "def pegar_colunas(tabela):\n",
        "  con = conecta_db()\n",
        "  # cria um cursor\n",
        "  cur = con.cursor()\n",
        "  #construindo query\n",
        "  query = \"SELECT column_name FROM INFORMATION_SCHEMA.COLUMNS WHERE table_name = '\"+tabela+\"'\"\n",
        "  cur.execute(query)\n",
        "  col_names = cur.fetchall()\n",
        "  con.close()\n",
        "\n",
        "  col_names = [col[0] for col in col_names]\n",
        "  #print(col_names)\n",
        "  return col_names\n",
        "\n",
        "# Função para consulta de versão e tabelas do banco\n",
        "def consultar_db():\n",
        "  con = conecta_db()\n",
        "  # cria um cursor\n",
        "  cur = con.cursor()\n",
        "  # executa uma declaração\n",
        "  print('Versão do banco de dados PostgreSQL:')\n",
        "  cur.execute ('SELECT version()')\n",
        "  # exibir a versão do servidor de banco de dados PostgreSQL\n",
        "  db_version = cur.fetchone()\n",
        "  print(db_version)\n",
        "\n",
        "  #verificando tabelas disponíveis\n",
        "  cur.execute (\"SELECT * FROM pg_catalog.pg_tables WHERE schemaname != 'pg_catalog' AND schemaname != 'information_schema'\")\n",
        "  tables = cur.fetchall()\n",
        "  for rec in tables:\n",
        "    print(rec)\n",
        "\n",
        "#Retorna as consultas e monta um dataframe\n",
        "def fazer_consulta(tabela):\n",
        "  registros = pegar_tabela(tabela)\n",
        "  colunas = pegar_colunas(tabela)\n",
        "  df = pd.DataFrame(registros, columns=colunas)\n",
        "  return df"
      ],
      "metadata": {
        "id": "XAP0l3ru0Zyb"
      },
      "execution_count": 44,
      "outputs": []
    },
    {
      "cell_type": "code",
      "source": [
        "consultar_db()"
      ],
      "metadata": {
        "colab": {
          "base_uri": "https://localhost:8080/"
        },
        "id": "J_DpLcHLAfy7",
        "outputId": "d1b9f38f-b195-40be-d65a-33f827e41efd"
      },
      "execution_count": 45,
      "outputs": [
        {
          "output_type": "stream",
          "name": "stdout",
          "text": [
            "Versão do banco de dados PostgreSQL:\n",
            "('PostgreSQL 14.4 (Ubuntu 14.4-1.pgdg20.04+1) on x86_64-pc-linux-gnu, compiled by gcc (Ubuntu 9.4.0-1ubuntu1~20.04.1) 9.4.0, 64-bit',)\n",
            "('public', 'forms', 'zgbodaynfjorzt', None, True, False, True, False)\n",
            "('public', 'order_items', 'zgbodaynfjorzt', None, True, False, True, False)\n",
            "('public', 'orders', 'zgbodaynfjorzt', None, True, False, True, False)\n"
          ]
        }
      ]
    },
    {
      "cell_type": "code",
      "source": [
        "forms = fazer_consulta('forms')\n",
        "order_items = fazer_consulta('order_items')\n",
        "orders = fazer_consulta('orders')"
      ],
      "metadata": {
        "id": "4_UZzoMRxCfL"
      },
      "execution_count": 46,
      "outputs": []
    },
    {
      "cell_type": "code",
      "source": [
        "print(forms.shape, order_items.shape, orders.shape) #order items = orders, porém com granularidade de produtos por registro"
      ],
      "metadata": {
        "colab": {
          "base_uri": "https://localhost:8080/"
        },
        "id": "Go9kj77ViwpP",
        "outputId": "258632f3-7c71-4a89-9f07-6f8beb919108"
      },
      "execution_count": 47,
      "outputs": [
        {
          "output_type": "stream",
          "name": "stdout",
          "text": [
            "(427950, 23) (211663, 6) (55078, 12)\n"
          ]
        }
      ]
    },
    {
      "cell_type": "markdown",
      "source": [
        "# Exploração dos dados"
      ],
      "metadata": {
        "id": "TiYSsGyGf77U"
      }
    },
    {
      "cell_type": "code",
      "source": [
        "orders.loc[(orders.id_cliente == 'b6c0b82cc271fd1203fc') & (orders.status_pagamento != 'Cancelado')].sort_values(by='data_pedido')"
      ],
      "metadata": {
        "colab": {
          "base_uri": "https://localhost:8080/",
          "height": 162
        },
        "id": "Lhej7XBmCv8s",
        "outputId": "aca24db5-81bc-4cf4-8f04-a4537bda9448"
      },
      "execution_count": 48,
      "outputs": [
        {
          "output_type": "execute_result",
          "data": {
            "text/plain": [
              "             id_pedido            id_cliente         data_pedido  \\\n",
              "35809  3de41ce9e954cf4  b6c0b82cc271fd1203fc 2022-05-16 09:01:58   \n",
              "\n",
              "         status_pagamento tipo_pagamento valor_total valor_desconto  \\\n",
              "35809  Pagamento aprovado         CARTÃO      274.25           0.00   \n",
              "\n",
              "       frete_gratis     cidade estado locale utm_source  \n",
              "35809         False  São Paulo     SP     BR       None  "
            ],
            "text/html": [
              "\n",
              "  <div id=\"df-850e0490-e852-424f-8988-53fcbf7a7a84\">\n",
              "    <div class=\"colab-df-container\">\n",
              "      <div>\n",
              "<style scoped>\n",
              "    .dataframe tbody tr th:only-of-type {\n",
              "        vertical-align: middle;\n",
              "    }\n",
              "\n",
              "    .dataframe tbody tr th {\n",
              "        vertical-align: top;\n",
              "    }\n",
              "\n",
              "    .dataframe thead th {\n",
              "        text-align: right;\n",
              "    }\n",
              "</style>\n",
              "<table border=\"1\" class=\"dataframe\">\n",
              "  <thead>\n",
              "    <tr style=\"text-align: right;\">\n",
              "      <th></th>\n",
              "      <th>id_pedido</th>\n",
              "      <th>id_cliente</th>\n",
              "      <th>data_pedido</th>\n",
              "      <th>status_pagamento</th>\n",
              "      <th>tipo_pagamento</th>\n",
              "      <th>valor_total</th>\n",
              "      <th>valor_desconto</th>\n",
              "      <th>frete_gratis</th>\n",
              "      <th>cidade</th>\n",
              "      <th>estado</th>\n",
              "      <th>locale</th>\n",
              "      <th>utm_source</th>\n",
              "    </tr>\n",
              "  </thead>\n",
              "  <tbody>\n",
              "    <tr>\n",
              "      <th>35809</th>\n",
              "      <td>3de41ce9e954cf4</td>\n",
              "      <td>b6c0b82cc271fd1203fc</td>\n",
              "      <td>2022-05-16 09:01:58</td>\n",
              "      <td>Pagamento aprovado</td>\n",
              "      <td>CARTÃO</td>\n",
              "      <td>274.25</td>\n",
              "      <td>0.00</td>\n",
              "      <td>False</td>\n",
              "      <td>São Paulo</td>\n",
              "      <td>SP</td>\n",
              "      <td>BR</td>\n",
              "      <td>None</td>\n",
              "    </tr>\n",
              "  </tbody>\n",
              "</table>\n",
              "</div>\n",
              "      <button class=\"colab-df-convert\" onclick=\"convertToInteractive('df-850e0490-e852-424f-8988-53fcbf7a7a84')\"\n",
              "              title=\"Convert this dataframe to an interactive table.\"\n",
              "              style=\"display:none;\">\n",
              "        \n",
              "  <svg xmlns=\"http://www.w3.org/2000/svg\" height=\"24px\"viewBox=\"0 0 24 24\"\n",
              "       width=\"24px\">\n",
              "    <path d=\"M0 0h24v24H0V0z\" fill=\"none\"/>\n",
              "    <path d=\"M18.56 5.44l.94 2.06.94-2.06 2.06-.94-2.06-.94-.94-2.06-.94 2.06-2.06.94zm-11 1L8.5 8.5l.94-2.06 2.06-.94-2.06-.94L8.5 2.5l-.94 2.06-2.06.94zm10 10l.94 2.06.94-2.06 2.06-.94-2.06-.94-.94-2.06-.94 2.06-2.06.94z\"/><path d=\"M17.41 7.96l-1.37-1.37c-.4-.4-.92-.59-1.43-.59-.52 0-1.04.2-1.43.59L10.3 9.45l-7.72 7.72c-.78.78-.78 2.05 0 2.83L4 21.41c.39.39.9.59 1.41.59.51 0 1.02-.2 1.41-.59l7.78-7.78 2.81-2.81c.8-.78.8-2.07 0-2.86zM5.41 20L4 18.59l7.72-7.72 1.47 1.35L5.41 20z\"/>\n",
              "  </svg>\n",
              "      </button>\n",
              "      \n",
              "  <style>\n",
              "    .colab-df-container {\n",
              "      display:flex;\n",
              "      flex-wrap:wrap;\n",
              "      gap: 12px;\n",
              "    }\n",
              "\n",
              "    .colab-df-convert {\n",
              "      background-color: #E8F0FE;\n",
              "      border: none;\n",
              "      border-radius: 50%;\n",
              "      cursor: pointer;\n",
              "      display: none;\n",
              "      fill: #1967D2;\n",
              "      height: 32px;\n",
              "      padding: 0 0 0 0;\n",
              "      width: 32px;\n",
              "    }\n",
              "\n",
              "    .colab-df-convert:hover {\n",
              "      background-color: #E2EBFA;\n",
              "      box-shadow: 0px 1px 2px rgba(60, 64, 67, 0.3), 0px 1px 3px 1px rgba(60, 64, 67, 0.15);\n",
              "      fill: #174EA6;\n",
              "    }\n",
              "\n",
              "    [theme=dark] .colab-df-convert {\n",
              "      background-color: #3B4455;\n",
              "      fill: #D2E3FC;\n",
              "    }\n",
              "\n",
              "    [theme=dark] .colab-df-convert:hover {\n",
              "      background-color: #434B5C;\n",
              "      box-shadow: 0px 1px 3px 1px rgba(0, 0, 0, 0.15);\n",
              "      filter: drop-shadow(0px 1px 2px rgba(0, 0, 0, 0.3));\n",
              "      fill: #FFFFFF;\n",
              "    }\n",
              "  </style>\n",
              "\n",
              "      <script>\n",
              "        const buttonEl =\n",
              "          document.querySelector('#df-850e0490-e852-424f-8988-53fcbf7a7a84 button.colab-df-convert');\n",
              "        buttonEl.style.display =\n",
              "          google.colab.kernel.accessAllowed ? 'block' : 'none';\n",
              "\n",
              "        async function convertToInteractive(key) {\n",
              "          const element = document.querySelector('#df-850e0490-e852-424f-8988-53fcbf7a7a84');\n",
              "          const dataTable =\n",
              "            await google.colab.kernel.invokeFunction('convertToInteractive',\n",
              "                                                     [key], {});\n",
              "          if (!dataTable) return;\n",
              "\n",
              "          const docLinkHtml = 'Like what you see? Visit the ' +\n",
              "            '<a target=\"_blank\" href=https://colab.research.google.com/notebooks/data_table.ipynb>data table notebook</a>'\n",
              "            + ' to learn more about interactive tables.';\n",
              "          element.innerHTML = '';\n",
              "          dataTable['output_type'] = 'display_data';\n",
              "          await google.colab.output.renderOutput(dataTable, element);\n",
              "          const docLink = document.createElement('div');\n",
              "          docLink.innerHTML = docLinkHtml;\n",
              "          element.appendChild(docLink);\n",
              "        }\n",
              "      </script>\n",
              "    </div>\n",
              "  </div>\n",
              "  "
            ]
          },
          "metadata": {},
          "execution_count": 48
        }
      ]
    },
    {
      "cell_type": "code",
      "source": [
        "order_items[order_items.id_pedido == '3de41ce9e954cf4']"
      ],
      "metadata": {
        "colab": {
          "base_uri": "https://localhost:8080/",
          "height": 175
        },
        "id": "ThimoJtHFYe5",
        "outputId": "c8900616-b796-46c9-970d-67363f16f41a"
      },
      "execution_count": 49,
      "outputs": [
        {
          "output_type": "execute_result",
          "data": {
            "text/plain": [
              "            id        id_pedido                         id_form id_produto  \\\n",
              "191159  614962  3de41ce9e954cf4  cca2dd772b2989216d22bf0d422c25       d2e0   \n",
              "191160  614963  3de41ce9e954cf4  cca2dd772b2989216d22bf0d422c25       509d   \n",
              "191161  614964  3de41ce9e954cf4  cca2dd772b2989216d22bf0d422c25       e820   \n",
              "191162  614965  3de41ce9e954cf4  cca2dd772b2989216d22bf0d422c25       d346   \n",
              "\n",
              "        qtde  valor  \n",
              "191159     1  64.90  \n",
              "191160     1  74.95  \n",
              "191161     1  74.95  \n",
              "191162     1  59.90  "
            ],
            "text/html": [
              "\n",
              "  <div id=\"df-35fb749e-a723-4cc0-8430-bef0aef61a67\">\n",
              "    <div class=\"colab-df-container\">\n",
              "      <div>\n",
              "<style scoped>\n",
              "    .dataframe tbody tr th:only-of-type {\n",
              "        vertical-align: middle;\n",
              "    }\n",
              "\n",
              "    .dataframe tbody tr th {\n",
              "        vertical-align: top;\n",
              "    }\n",
              "\n",
              "    .dataframe thead th {\n",
              "        text-align: right;\n",
              "    }\n",
              "</style>\n",
              "<table border=\"1\" class=\"dataframe\">\n",
              "  <thead>\n",
              "    <tr style=\"text-align: right;\">\n",
              "      <th></th>\n",
              "      <th>id</th>\n",
              "      <th>id_pedido</th>\n",
              "      <th>id_form</th>\n",
              "      <th>id_produto</th>\n",
              "      <th>qtde</th>\n",
              "      <th>valor</th>\n",
              "    </tr>\n",
              "  </thead>\n",
              "  <tbody>\n",
              "    <tr>\n",
              "      <th>191159</th>\n",
              "      <td>614962</td>\n",
              "      <td>3de41ce9e954cf4</td>\n",
              "      <td>cca2dd772b2989216d22bf0d422c25</td>\n",
              "      <td>d2e0</td>\n",
              "      <td>1</td>\n",
              "      <td>64.90</td>\n",
              "    </tr>\n",
              "    <tr>\n",
              "      <th>191160</th>\n",
              "      <td>614963</td>\n",
              "      <td>3de41ce9e954cf4</td>\n",
              "      <td>cca2dd772b2989216d22bf0d422c25</td>\n",
              "      <td>509d</td>\n",
              "      <td>1</td>\n",
              "      <td>74.95</td>\n",
              "    </tr>\n",
              "    <tr>\n",
              "      <th>191161</th>\n",
              "      <td>614964</td>\n",
              "      <td>3de41ce9e954cf4</td>\n",
              "      <td>cca2dd772b2989216d22bf0d422c25</td>\n",
              "      <td>e820</td>\n",
              "      <td>1</td>\n",
              "      <td>74.95</td>\n",
              "    </tr>\n",
              "    <tr>\n",
              "      <th>191162</th>\n",
              "      <td>614965</td>\n",
              "      <td>3de41ce9e954cf4</td>\n",
              "      <td>cca2dd772b2989216d22bf0d422c25</td>\n",
              "      <td>d346</td>\n",
              "      <td>1</td>\n",
              "      <td>59.90</td>\n",
              "    </tr>\n",
              "  </tbody>\n",
              "</table>\n",
              "</div>\n",
              "      <button class=\"colab-df-convert\" onclick=\"convertToInteractive('df-35fb749e-a723-4cc0-8430-bef0aef61a67')\"\n",
              "              title=\"Convert this dataframe to an interactive table.\"\n",
              "              style=\"display:none;\">\n",
              "        \n",
              "  <svg xmlns=\"http://www.w3.org/2000/svg\" height=\"24px\"viewBox=\"0 0 24 24\"\n",
              "       width=\"24px\">\n",
              "    <path d=\"M0 0h24v24H0V0z\" fill=\"none\"/>\n",
              "    <path d=\"M18.56 5.44l.94 2.06.94-2.06 2.06-.94-2.06-.94-.94-2.06-.94 2.06-2.06.94zm-11 1L8.5 8.5l.94-2.06 2.06-.94-2.06-.94L8.5 2.5l-.94 2.06-2.06.94zm10 10l.94 2.06.94-2.06 2.06-.94-2.06-.94-.94-2.06-.94 2.06-2.06.94z\"/><path d=\"M17.41 7.96l-1.37-1.37c-.4-.4-.92-.59-1.43-.59-.52 0-1.04.2-1.43.59L10.3 9.45l-7.72 7.72c-.78.78-.78 2.05 0 2.83L4 21.41c.39.39.9.59 1.41.59.51 0 1.02-.2 1.41-.59l7.78-7.78 2.81-2.81c.8-.78.8-2.07 0-2.86zM5.41 20L4 18.59l7.72-7.72 1.47 1.35L5.41 20z\"/>\n",
              "  </svg>\n",
              "      </button>\n",
              "      \n",
              "  <style>\n",
              "    .colab-df-container {\n",
              "      display:flex;\n",
              "      flex-wrap:wrap;\n",
              "      gap: 12px;\n",
              "    }\n",
              "\n",
              "    .colab-df-convert {\n",
              "      background-color: #E8F0FE;\n",
              "      border: none;\n",
              "      border-radius: 50%;\n",
              "      cursor: pointer;\n",
              "      display: none;\n",
              "      fill: #1967D2;\n",
              "      height: 32px;\n",
              "      padding: 0 0 0 0;\n",
              "      width: 32px;\n",
              "    }\n",
              "\n",
              "    .colab-df-convert:hover {\n",
              "      background-color: #E2EBFA;\n",
              "      box-shadow: 0px 1px 2px rgba(60, 64, 67, 0.3), 0px 1px 3px 1px rgba(60, 64, 67, 0.15);\n",
              "      fill: #174EA6;\n",
              "    }\n",
              "\n",
              "    [theme=dark] .colab-df-convert {\n",
              "      background-color: #3B4455;\n",
              "      fill: #D2E3FC;\n",
              "    }\n",
              "\n",
              "    [theme=dark] .colab-df-convert:hover {\n",
              "      background-color: #434B5C;\n",
              "      box-shadow: 0px 1px 3px 1px rgba(0, 0, 0, 0.15);\n",
              "      filter: drop-shadow(0px 1px 2px rgba(0, 0, 0, 0.3));\n",
              "      fill: #FFFFFF;\n",
              "    }\n",
              "  </style>\n",
              "\n",
              "      <script>\n",
              "        const buttonEl =\n",
              "          document.querySelector('#df-35fb749e-a723-4cc0-8430-bef0aef61a67 button.colab-df-convert');\n",
              "        buttonEl.style.display =\n",
              "          google.colab.kernel.accessAllowed ? 'block' : 'none';\n",
              "\n",
              "        async function convertToInteractive(key) {\n",
              "          const element = document.querySelector('#df-35fb749e-a723-4cc0-8430-bef0aef61a67');\n",
              "          const dataTable =\n",
              "            await google.colab.kernel.invokeFunction('convertToInteractive',\n",
              "                                                     [key], {});\n",
              "          if (!dataTable) return;\n",
              "\n",
              "          const docLinkHtml = 'Like what you see? Visit the ' +\n",
              "            '<a target=\"_blank\" href=https://colab.research.google.com/notebooks/data_table.ipynb>data table notebook</a>'\n",
              "            + ' to learn more about interactive tables.';\n",
              "          element.innerHTML = '';\n",
              "          dataTable['output_type'] = 'display_data';\n",
              "          await google.colab.output.renderOutput(dataTable, element);\n",
              "          const docLink = document.createElement('div');\n",
              "          docLink.innerHTML = docLinkHtml;\n",
              "          element.appendChild(docLink);\n",
              "        }\n",
              "      </script>\n",
              "    </div>\n",
              "  </div>\n",
              "  "
            ]
          },
          "metadata": {},
          "execution_count": 49
        }
      ]
    },
    {
      "cell_type": "code",
      "source": [
        "forms[forms.id_form=='cca2dd772b2989216d22bf0d422c25']"
      ],
      "metadata": {
        "colab": {
          "base_uri": "https://localhost:8080/",
          "height": 179
        },
        "id": "2tlqwhXtLYAf",
        "outputId": "d2c48e94-2511-4fce-c33c-27b7aee1e21c"
      },
      "execution_count": 50,
      "outputs": [
        {
          "output_type": "execute_result",
          "data": {
            "text/plain": [
              "                              id_form            id_cliente  \\\n",
              "76881  cca2dd772b2989216d22bf0d422c25  b6c0b82cc271fd1203fc   \n",
              "\n",
              "                     data sistema_operacional navegador  \\\n",
              "76881 2022-01-26 08:36:49                 iOS    Safari   \n",
              "\n",
              "                     localizacao locale          cidade      estado  \\\n",
              "76881  Ribeirão Preto, Sao Paulo     BR  RIBEIRÃO PRETO   SAO PAULO   \n",
              "\n",
              "       qtde_lavagem_semana utm_source tipo_cabelo comprimento  tipo_fios  \\\n",
              "76881                    4       None      Tipo 3       Longo  Perfeitos   \n",
              "\n",
              "          procedimentos       tempo_procedimento dieta atividade_fisica  \\\n",
              "76881  Exposição ao sol  Não houve procedimentos  Leve        Raramente   \n",
              "\n",
              "      frequencia_estresse    caracteristica faixa_etaria efeitos_desejados  \\\n",
              "76881               Nunca  Característica 6      25 a 34          Efeito 2   \n",
              "\n",
              "      fragancia  \n",
              "76881     Rosas  "
            ],
            "text/html": [
              "\n",
              "  <div id=\"df-009338d9-0f6b-4d11-92f4-db1c07797afd\">\n",
              "    <div class=\"colab-df-container\">\n",
              "      <div>\n",
              "<style scoped>\n",
              "    .dataframe tbody tr th:only-of-type {\n",
              "        vertical-align: middle;\n",
              "    }\n",
              "\n",
              "    .dataframe tbody tr th {\n",
              "        vertical-align: top;\n",
              "    }\n",
              "\n",
              "    .dataframe thead th {\n",
              "        text-align: right;\n",
              "    }\n",
              "</style>\n",
              "<table border=\"1\" class=\"dataframe\">\n",
              "  <thead>\n",
              "    <tr style=\"text-align: right;\">\n",
              "      <th></th>\n",
              "      <th>id_form</th>\n",
              "      <th>id_cliente</th>\n",
              "      <th>data</th>\n",
              "      <th>sistema_operacional</th>\n",
              "      <th>navegador</th>\n",
              "      <th>localizacao</th>\n",
              "      <th>locale</th>\n",
              "      <th>cidade</th>\n",
              "      <th>estado</th>\n",
              "      <th>qtde_lavagem_semana</th>\n",
              "      <th>utm_source</th>\n",
              "      <th>tipo_cabelo</th>\n",
              "      <th>comprimento</th>\n",
              "      <th>tipo_fios</th>\n",
              "      <th>procedimentos</th>\n",
              "      <th>tempo_procedimento</th>\n",
              "      <th>dieta</th>\n",
              "      <th>atividade_fisica</th>\n",
              "      <th>frequencia_estresse</th>\n",
              "      <th>caracteristica</th>\n",
              "      <th>faixa_etaria</th>\n",
              "      <th>efeitos_desejados</th>\n",
              "      <th>fragancia</th>\n",
              "    </tr>\n",
              "  </thead>\n",
              "  <tbody>\n",
              "    <tr>\n",
              "      <th>76881</th>\n",
              "      <td>cca2dd772b2989216d22bf0d422c25</td>\n",
              "      <td>b6c0b82cc271fd1203fc</td>\n",
              "      <td>2022-01-26 08:36:49</td>\n",
              "      <td>iOS</td>\n",
              "      <td>Safari</td>\n",
              "      <td>Ribeirão Preto, Sao Paulo</td>\n",
              "      <td>BR</td>\n",
              "      <td>RIBEIRÃO PRETO</td>\n",
              "      <td>SAO PAULO</td>\n",
              "      <td>4</td>\n",
              "      <td>None</td>\n",
              "      <td>Tipo 3</td>\n",
              "      <td>Longo</td>\n",
              "      <td>Perfeitos</td>\n",
              "      <td>Exposição ao sol</td>\n",
              "      <td>Não houve procedimentos</td>\n",
              "      <td>Leve</td>\n",
              "      <td>Raramente</td>\n",
              "      <td>Nunca</td>\n",
              "      <td>Característica 6</td>\n",
              "      <td>25 a 34</td>\n",
              "      <td>Efeito 2</td>\n",
              "      <td>Rosas</td>\n",
              "    </tr>\n",
              "  </tbody>\n",
              "</table>\n",
              "</div>\n",
              "      <button class=\"colab-df-convert\" onclick=\"convertToInteractive('df-009338d9-0f6b-4d11-92f4-db1c07797afd')\"\n",
              "              title=\"Convert this dataframe to an interactive table.\"\n",
              "              style=\"display:none;\">\n",
              "        \n",
              "  <svg xmlns=\"http://www.w3.org/2000/svg\" height=\"24px\"viewBox=\"0 0 24 24\"\n",
              "       width=\"24px\">\n",
              "    <path d=\"M0 0h24v24H0V0z\" fill=\"none\"/>\n",
              "    <path d=\"M18.56 5.44l.94 2.06.94-2.06 2.06-.94-2.06-.94-.94-2.06-.94 2.06-2.06.94zm-11 1L8.5 8.5l.94-2.06 2.06-.94-2.06-.94L8.5 2.5l-.94 2.06-2.06.94zm10 10l.94 2.06.94-2.06 2.06-.94-2.06-.94-.94-2.06-.94 2.06-2.06.94z\"/><path d=\"M17.41 7.96l-1.37-1.37c-.4-.4-.92-.59-1.43-.59-.52 0-1.04.2-1.43.59L10.3 9.45l-7.72 7.72c-.78.78-.78 2.05 0 2.83L4 21.41c.39.39.9.59 1.41.59.51 0 1.02-.2 1.41-.59l7.78-7.78 2.81-2.81c.8-.78.8-2.07 0-2.86zM5.41 20L4 18.59l7.72-7.72 1.47 1.35L5.41 20z\"/>\n",
              "  </svg>\n",
              "      </button>\n",
              "      \n",
              "  <style>\n",
              "    .colab-df-container {\n",
              "      display:flex;\n",
              "      flex-wrap:wrap;\n",
              "      gap: 12px;\n",
              "    }\n",
              "\n",
              "    .colab-df-convert {\n",
              "      background-color: #E8F0FE;\n",
              "      border: none;\n",
              "      border-radius: 50%;\n",
              "      cursor: pointer;\n",
              "      display: none;\n",
              "      fill: #1967D2;\n",
              "      height: 32px;\n",
              "      padding: 0 0 0 0;\n",
              "      width: 32px;\n",
              "    }\n",
              "\n",
              "    .colab-df-convert:hover {\n",
              "      background-color: #E2EBFA;\n",
              "      box-shadow: 0px 1px 2px rgba(60, 64, 67, 0.3), 0px 1px 3px 1px rgba(60, 64, 67, 0.15);\n",
              "      fill: #174EA6;\n",
              "    }\n",
              "\n",
              "    [theme=dark] .colab-df-convert {\n",
              "      background-color: #3B4455;\n",
              "      fill: #D2E3FC;\n",
              "    }\n",
              "\n",
              "    [theme=dark] .colab-df-convert:hover {\n",
              "      background-color: #434B5C;\n",
              "      box-shadow: 0px 1px 3px 1px rgba(0, 0, 0, 0.15);\n",
              "      filter: drop-shadow(0px 1px 2px rgba(0, 0, 0, 0.3));\n",
              "      fill: #FFFFFF;\n",
              "    }\n",
              "  </style>\n",
              "\n",
              "      <script>\n",
              "        const buttonEl =\n",
              "          document.querySelector('#df-009338d9-0f6b-4d11-92f4-db1c07797afd button.colab-df-convert');\n",
              "        buttonEl.style.display =\n",
              "          google.colab.kernel.accessAllowed ? 'block' : 'none';\n",
              "\n",
              "        async function convertToInteractive(key) {\n",
              "          const element = document.querySelector('#df-009338d9-0f6b-4d11-92f4-db1c07797afd');\n",
              "          const dataTable =\n",
              "            await google.colab.kernel.invokeFunction('convertToInteractive',\n",
              "                                                     [key], {});\n",
              "          if (!dataTable) return;\n",
              "\n",
              "          const docLinkHtml = 'Like what you see? Visit the ' +\n",
              "            '<a target=\"_blank\" href=https://colab.research.google.com/notebooks/data_table.ipynb>data table notebook</a>'\n",
              "            + ' to learn more about interactive tables.';\n",
              "          element.innerHTML = '';\n",
              "          dataTable['output_type'] = 'display_data';\n",
              "          await google.colab.output.renderOutput(dataTable, element);\n",
              "          const docLink = document.createElement('div');\n",
              "          docLink.innerHTML = docLinkHtml;\n",
              "          element.appendChild(docLink);\n",
              "        }\n",
              "      </script>\n",
              "    </div>\n",
              "  </div>\n",
              "  "
            ]
          },
          "metadata": {},
          "execution_count": 50
        }
      ]
    },
    {
      "cell_type": "markdown",
      "source": [
        "# Criando label de formulários que se transformaram em venda"
      ],
      "metadata": {
        "id": "Fe3ezYDpeUFb"
      }
    },
    {
      "cell_type": "code",
      "source": [
        "sucess_lead = ['Entregue', 'Pagamento aprovado', 'Em transporte']\n",
        "df_orders = orders[orders.status_pagamento.isin(sucess_lead)]\n",
        "\n",
        "sucess_orders = df_orders.id_pedido.to_list()\n",
        "df_order_items = order_items[order_items.id_pedido.isin(sucess_orders)]\n",
        "sucess_forms = df_order_items.id_form.to_list()\n",
        "\n",
        "forms['lead_into_sale'] = np.where(forms.id_form.isin(sucess_forms), True, False)\n",
        "forms.lead_into_sale.value_counts()"
      ],
      "metadata": {
        "colab": {
          "base_uri": "https://localhost:8080/"
        },
        "id": "SqpyKEKYfMaO",
        "outputId": "adc9b8b2-23c3-4cd1-f6d9-db172ca13290"
      },
      "execution_count": 51,
      "outputs": [
        {
          "output_type": "execute_result",
          "data": {
            "text/plain": [
              "False    382189\n",
              "True      45761\n",
              "Name: lead_into_sale, dtype: int64"
            ]
          },
          "metadata": {},
          "execution_count": 51
        }
      ]
    },
    {
      "cell_type": "code",
      "source": [
        "forms_y = forms['lead_into_sale']\n",
        "forms.drop(columns='lead_into_sale', inplace=True)"
      ],
      "metadata": {
        "id": "Zjm2TolQWSwQ"
      },
      "execution_count": 52,
      "outputs": []
    },
    {
      "cell_type": "code",
      "source": [
        ""
      ],
      "metadata": {
        "id": "SKv8Qhf7hkxo"
      },
      "execution_count": null,
      "outputs": []
    },
    {
      "cell_type": "code",
      "source": [
        ""
      ],
      "metadata": {
        "id": "nQE3Gc_qhktf"
      },
      "execution_count": null,
      "outputs": []
    },
    {
      "cell_type": "code",
      "source": [
        ""
      ],
      "metadata": {
        "id": "BqoZPG7Lhkqt"
      },
      "execution_count": null,
      "outputs": []
    },
    {
      "cell_type": "code",
      "source": [
        ""
      ],
      "metadata": {
        "id": "QoVKFXwThknc"
      },
      "execution_count": null,
      "outputs": []
    },
    {
      "cell_type": "code",
      "source": [
        ""
      ],
      "metadata": {
        "id": "KIwyDVXNhkhU"
      },
      "execution_count": null,
      "outputs": []
    }
  ]
}